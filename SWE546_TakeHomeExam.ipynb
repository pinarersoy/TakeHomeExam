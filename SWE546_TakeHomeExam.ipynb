{
 "cells": [
  {
   "cell_type": "code",
   "execution_count": 1,
   "metadata": {
    "collapsed": true
   },
   "outputs": [],
   "source": [
    "# This is the first version of the TakeHomeExam. The following questions will be added until Friday \n"
   ]
  },
  {
   "cell_type": "code",
   "execution_count": null,
   "metadata": {
    "collapsed": true
   },
   "outputs": [],
   "source": [
    "# Define the necessary packages\n",
    "\n",
    "%matplotlib inline\n",
    "\n",
    "import numpy as np\n",
    "import matplotlib as mpl\n",
    "import matplotlib.pylab as plt\n"
   ]
  },
  {
   "cell_type": "code",
   "execution_count": 6,
   "metadata": {
    "collapsed": false
   },
   "outputs": [
    {
     "name": "stdout",
     "output_type": "stream",
     "text": [
      "[[ 0.     0.    -1.064]\n",
      " [ 0.     1.    -0.904]\n",
      " [ 0.     5.     0.532]\n",
      " [ 1.     0.     1.192]\n",
      " [ 1.     2.     0.01 ]\n",
      " [ 1.     3.     0.34 ]\n",
      " [ 2.     0.     4.417]\n",
      " [ 2.     1.     2.141]\n",
      " [ 2.     2.    -0.26 ]\n",
      " [ 2.     3.     1.039]\n",
      " [ 2.     4.     1.633]\n",
      " [ 2.     5.     0.031]\n",
      " [ 3.     1.     1.811]\n",
      " [ 3.     3.     0.619]\n",
      " [ 3.     4.     0.386]\n",
      " [ 3.     5.     0.577]\n",
      " [ 4.     1.    -1.467]\n",
      " [ 4.     2.     1.323]\n",
      " [ 4.     4.     0.516]\n",
      " [ 4.     5.    -0.949]]\n"
     ]
    }
   ],
   "source": [
    "# Define data in the following array format\n",
    "\n",
    "data = np.array([[0,0,-1.064],\n",
    "[0,1,-0.904],\n",
    "[0,5,0.532],\n",
    "[1,0,1.192],\n",
    "[1,2,0.010],\n",
    "[1,3,0.340],\n",
    "[2,0,4.417],\n",
    "[2,1,2.141],\n",
    "[2,2,-0.260],\n",
    "[2,3,1.039],\n",
    "[2,4,1.633],\n",
    "[2,5,0.031],\n",
    "[3,1,1.811],\n",
    "[3,3,0.619],\n",
    "[3,4,0.386],\n",
    "[3,5,0.577],\n",
    "[4,1,-1.467],\n",
    "[4,2,1.323],\n",
    "[4,4,0.516],\n",
    "[4,5,-0.949]])\n",
    "\n",
    "print(data)\n"
   ]
  },
  {
   "cell_type": "code",
   "execution_count": null,
   "metadata": {
    "collapsed": true
   },
   "outputs": [],
   "source": [
    "# Define a suitable error function to measure the size of the error as a function of the parameters w and h.\n",
    "\n"
   ]
  },
  {
   "cell_type": "code",
   "execution_count": null,
   "metadata": {
    "collapsed": true
   },
   "outputs": [],
   "source": [
    "# Take the derivative of the total error with respect to each parameter w_{i,k} and h_{k,j} and\n",
    "# implement a function that computes the derivative of the total error with respect to each parameter.\n",
    "\n",
    "\n"
   ]
  },
  {
   "cell_type": "code",
   "execution_count": null,
   "metadata": {
    "collapsed": true
   },
   "outputs": [],
   "source": [
    "# Print the predictions of the model for the defined indices\n"
   ]
  }
 ],
 "metadata": {
  "kernelspec": {
   "display_name": "Python 2",
   "language": "python",
   "name": "python2"
  },
  "language_info": {
   "codemirror_mode": {
    "name": "ipython",
    "version": 2
   },
   "file_extension": ".py",
   "mimetype": "text/x-python",
   "name": "python",
   "nbconvert_exporter": "python",
   "pygments_lexer": "ipython2",
   "version": "2.7.13"
  }
 },
 "nbformat": 4,
 "nbformat_minor": 2
}
